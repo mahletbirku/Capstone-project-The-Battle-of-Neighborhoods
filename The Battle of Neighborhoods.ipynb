{
    "cells": [
        {
            "metadata": {},
            "cell_type": "markdown",
            "source": "# The Battle of Neighborhood (Week_01) "
        },
        {
            "metadata": {},
            "cell_type": "markdown",
            "source": "### Capstone Project - New york City Burger place data Analysis  "
        },
        {
            "metadata": {},
            "cell_type": "markdown",
            "source": "# Intorduction :-\n\nNew York City, often simply called New York and abbreviated as NYC, is the most populous city in the United stat. With an estimated 2019 population of 8,336,817 distributed over about 302.6 square miles (784 km2), New York City is also the most densely populated major city in the United States. Located at the southern tip of the U.S. state of New York, the city is the center of the New York metropolitan area, the largest metropolitan area in the world by urban landmass. With almost 20 million people in its metropolitan statistical area and approximately 23 million in its combined statistical area, it is one of the world's most populous megacities. New York City has been described as the cultural, financial, and media capital of the world, significantly influencing commerce, entertainment, research, technology, education, politics, tourism, art, fashion, and sports. New York is a city with a high population and population density. Being such a crowded city leads the fast-food chain business and social sharing places in the city where the population is dense. \n\nHere I will be identyfing the most suitable burger place in New york city. "
        },
        {
            "metadata": {},
            "cell_type": "markdown",
            "source": "# Business Problem \n\nOne day I have had a plan to open new burger place in new york city. Then I met with my friend to discuss my plans. I had two main requirments includes,\n\n1. I want to open burger place, where there are less no. of burger places, so that competition will be less and profit will be more.\n\n2. The place should be economical. In sense investment price should be less and profit should be more.\n\nIn this project I will try to find an optimal location to set-up this place. Specifically, this report will be targeted to stakeholders interested in opening an burger place in new york city.\nSince there are lots of burger place in new york city, we will try to detect locations that are not already crowded. We would also prefer locations as close to city center as possible, assuming that first two conditions are met.\nWe will use our data science powers to generate a few most promissing neighborhoods based on this criteria. Advantages of each area will then be clearly expressed so that best possible final location can be chosen by stakeholders. \n"
        },
        {
            "metadata": {},
            "cell_type": "markdown",
            "source": "# Data \nBased on definition of our problem, factors that will influence our decission are:\nnumber of existing burger places in the neighborhood.\nFollowing data sources will be needed to extract/generate the required information:\nWe have prepared .xls file which has main deatils including area pincode, latitude and longitude. This data set I have committed in kaggle.\nhttps://www.kaggle.com/hegdetapan/newyorcitykareaspincodewithlatitudelongitude\nnumber of burger places and location in every neighborhood will be obtained using Foursquare API\n\nInstall necessary libs and packages.\nInstall geopy package,\nfolium package for map visualization. "
        },
        {
            "metadata": {},
            "cell_type": "markdown",
            "source": "# Target Audience:-\n\nTo recommend the correct burger place in new york city.The objective is to locate and recommend to steckholders which neighborhood of new york city will be best choice to start burger place.\nThis would interest anyone who wants to start a selling burger in the city of new york. \n"
        },
        {
            "metadata": {},
            "cell_type": "code",
            "source": "",
            "execution_count": null,
            "outputs": []
        }
    ],
    "metadata": {
        "kernelspec": {
            "name": "python3",
            "display_name": "Python 3.6",
            "language": "python"
        },
        "language_info": {
            "name": "python",
            "version": "3.6.9",
            "mimetype": "text/x-python",
            "codemirror_mode": {
                "name": "ipython",
                "version": 3
            },
            "pygments_lexer": "ipython3",
            "nbconvert_exporter": "python",
            "file_extension": ".py"
        }
    },
    "nbformat": 4,
    "nbformat_minor": 1
}