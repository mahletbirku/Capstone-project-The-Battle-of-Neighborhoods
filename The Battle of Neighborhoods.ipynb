{
    "cells": [
        {
            "metadata": {},
            "cell_type": "markdown",
            "source": "# The Battle of Neighborhood (Week_01) "
        },
        {
            "metadata": {},
            "cell_type": "markdown",
            "source": "### Capstone Project - New york City Burger place data Analysis  "
        },
        {
            "metadata": {},
            "cell_type": "markdown",
            "source": "# Intorduction :-\n\nHere I will be identyfing the most suitable burger place in New york city"
        },
        {
            "metadata": {},
            "cell_type": "markdown",
            "source": "# Business Problem \n\nOne day I have had a plan to open new burger place in new york city. Then I met with my friend to discuss my plans. I had two main requirments includes,\n\n1. I want to open burger place, where there are less no. of burger places, so that competition will be less and profit will be more.\n\n2. The place should be economical. In sense investment price should be less and profit should be more.\n\nIn this project I will try to find an optimal location to set-up this place. Specifically, this report will be targeted to stakeholders interested in opening an burger place in new york city.\nSince there are lots of burger place in new york city, we will try to detect locations that are not already crowded. We would also prefer locations as close to city center as possible, assuming that first two conditions are met.\nWe will use our data science powers to generate a few most promissing neighborhoods based on this criteria. Advantages of each area will then be clearly expressed so that best possible final location can be chosen by stakeholders. \n"
        },
        {
            "metadata": {},
            "cell_type": "markdown",
            "source": "# Data \nBased on definition of our problem, factors that will influence our decission are:\nnumber of existing burger places in the neighborhood.\nFollowing data sources will be needed to extract/generate the required information:\nWe have prepared .xls file which has main deatils including area pincode, latitude and longitude. This data set I have committed in kaggle.\nhttps://www.kaggle.com/hegdetapan/newyorcitykareaspincodewithlatitudelongitude\nnumber of burger places and location in every neighborhood will be obtained using Foursquare API\n\nInstall necessary libs and packages.\nInstall geopy package,\nfolium package for map visualization. "
        },
        {
            "metadata": {},
            "cell_type": "markdown",
            "source": "# Target Audience:-\n\nTo recommend the correct burger place in new york city.The objective is to locate and recommend to steckholders which neighborhood of new york city will be best choice to start burger place.\nThis would interest anyone who wants to start a selling burger in the city of new york. \n"
        },
        {
            "metadata": {},
            "cell_type": "code",
            "source": "",
            "execution_count": null,
            "outputs": []
        }
    ],
    "metadata": {
        "kernelspec": {
            "name": "python3",
            "display_name": "Python 3.6",
            "language": "python"
        },
        "language_info": {
            "name": "python",
            "version": "3.6.9",
            "mimetype": "text/x-python",
            "codemirror_mode": {
                "name": "ipython",
                "version": 3
            },
            "pygments_lexer": "ipython3",
            "nbconvert_exporter": "python",
            "file_extension": ".py"
        }
    },
    "nbformat": 4,
    "nbformat_minor": 1
}